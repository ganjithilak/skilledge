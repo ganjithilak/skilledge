{
 "cells": [
  {
   "cell_type": "markdown",
   "id": "5cb65f37",
   "metadata": {},
   "source": [
    " Calculate mean of values in your own list? "
   ]
  },
  {
   "cell_type": "code",
   "execution_count": null,
   "id": "4d23b0fa",
   "metadata": {},
   "outputs": [],
   "source": [
    "lst = [2,3,1,4,5,6,7,8,9,0]\n",
    "mean = sum(lst)/len(lst)"
   ]
  },
  {
   "cell_type": "markdown",
   "id": "29126da7",
   "metadata": {},
   "source": [
    "Print odd num from list? "
   ]
  },
  {
   "cell_type": "code",
   "execution_count": null,
   "id": "ba786f91",
   "metadata": {},
   "outputs": [],
   "source": [
    "lst2 = range(10)\n",
    "for i in lst2:\n",
    "    if i%2 != 0:\n",
    "        print(i)"
   ]
  },
  {
   "cell_type": "markdown",
   "id": "1ac9db80",
   "metadata": {},
   "source": [
    "Calculate the sum of all numbers from 1 to a given number"
   ]
  },
  {
   "cell_type": "code",
   "execution_count": null,
   "id": "715d2d81",
   "metadata": {},
   "outputs": [],
   "source": [
    "lst3 = [2,3,1,4,5,6,7,8,9,0]\n",
    "sum(lst3)"
   ]
  },
  {
   "cell_type": "markdown",
   "id": "309c2065",
   "metadata": {},
   "source": [
    " Write a program to print multiplication table of a given number"
   ]
  },
  {
   "cell_type": "code",
   "execution_count": null,
   "id": "c4357990",
   "metadata": {},
   "outputs": [],
   "source": [
    "num = int(input())\n",
    "for i in range(0,11):\n",
    "    print(num,'*',i,'=',num*i)"
   ]
  },
  {
   "cell_type": "markdown",
   "id": "3dfae122",
   "metadata": {},
   "source": [
    "Display numbers from a list using loop"
   ]
  },
  {
   "cell_type": "code",
   "execution_count": null,
   "id": "42565e13",
   "metadata": {},
   "outputs": [],
   "source": [
    "lst3 = [1,2,3,4,5,6,7,8,9,0]\n",
    "for i in lst3:\n",
    "    print(i)"
   ]
  },
  {
   "cell_type": "markdown",
   "id": "21fc755a",
   "metadata": {},
   "source": [
    "Count the total number of digits in a number"
   ]
  },
  {
   "cell_type": "code",
   "execution_count": null,
   "id": "62334f80",
   "metadata": {},
   "outputs": [],
   "source": [
    "lst4 = [1,2,3,4,5,6,7,8,9,0]\n",
    "count = 0\n",
    "for i in lst4:\n",
    "    count+=1\n",
    "print(count)    "
   ]
  },
  {
   "cell_type": "raw",
   "id": "9f704049",
   "metadata": {},
   "source": [
    " Print the following patter\n",
    "1\n",
    "12\n",
    "123\n",
    "1234"
   ]
  },
  {
   "cell_type": "code",
   "execution_count": null,
   "id": "f3f5ac3c",
   "metadata": {},
   "outputs": [],
   "source": [
    "num = int(input())\n",
    "for i in range(1,num+1):\n",
    "    for j in range(1,i+1):\n",
    "        print(j,end = ' ')\n",
    "    print()"
   ]
  },
  {
   "cell_type": "markdown",
   "id": "090fb320",
   "metadata": {},
   "source": [
    " Print list in reverse order using a loop"
   ]
  },
  {
   "cell_type": "code",
   "execution_count": null,
   "id": "5b2b5183",
   "metadata": {},
   "outputs": [],
   "source": [
    "lst5 = [1,2,3,4,5,6,7,8,9,0]\n",
    "n=[]\n",
    "for i in lst5:\n",
    "    n.insert(-i,i)\n",
    "print(n)\n",
    "    "
   ]
  },
  {
   "cell_type": "markdown",
   "id": "635296ee",
   "metadata": {},
   "source": [
    "Display numbers from -10 to -1 using for loop "
   ]
  },
  {
   "cell_type": "code",
   "execution_count": null,
   "id": "b9a9df63",
   "metadata": {},
   "outputs": [],
   "source": [
    "for i in range(-10,0):\n",
    "    print(i)"
   ]
  },
  {
   "cell_type": "markdown",
   "id": "147238e7",
   "metadata": {},
   "source": [
    " Use else block to display a message “Done” after successful execution of for loop"
   ]
  },
  {
   "cell_type": "code",
   "execution_count": null,
   "id": "1dddcf38",
   "metadata": {},
   "outputs": [],
   "source": [
    "for i in (1,2,4):\n",
    "    print(i)\n",
    "else:\n",
    "    print('done')"
   ]
  },
  {
   "cell_type": "markdown",
   "id": "98ea853d",
   "metadata": {},
   "source": [
    " Write a program to display all prime numbers within a range"
   ]
  },
  {
   "cell_type": "code",
   "execution_count": 7,
   "id": "178ac891",
   "metadata": {},
   "outputs": [
    {
     "name": "stdout",
     "output_type": "stream",
     "text": [
      "[0, 2, 3, 5, 7, 11, 13, 17, 19, 23, 29, 31, 37, 41, 43, 47, 53, 59, 61, 67, 71, 73, 79, 83, 89, 97]\n"
     ]
    }
   ],
   "source": [
    "c = []\n",
    "for n in range(0,100):\n",
    "    count = 0\n",
    "    for i in range(2,(n//2 +1)):\n",
    "        if (n%i==0):\n",
    "            count+=1\n",
    "            break\n",
    "    if(count == 0 and n!= 1):\n",
    "        c.append(n)\n",
    "print(c)"
   ]
  },
  {
   "cell_type": "markdown",
   "id": "21fba54b",
   "metadata": {},
   "source": [
    "Display Fibonacci series up to 10 terms"
   ]
  },
  {
   "cell_type": "code",
   "execution_count": 13,
   "id": "6ec97d0b",
   "metadata": {},
   "outputs": [
    {
     "name": "stdout",
     "output_type": "stream",
     "text": [
      "1\n",
      "1\n",
      "2\n",
      "3\n",
      "5\n",
      "8\n",
      "13\n",
      "21\n",
      "34\n",
      "55\n"
     ]
    }
   ],
   "source": [
    "number = 10\n",
    "x = 0\n",
    "y = 1\n",
    "while number:\n",
    "    c=x+y\n",
    "    y=x\n",
    "    x=c\n",
    "    print(x)\n",
    "    number = number-1\n"
   ]
  },
  {
   "cell_type": "markdown",
   "id": "e7459418",
   "metadata": {},
   "source": [
    "Find the factorial of any number"
   ]
  },
  {
   "cell_type": "code",
   "execution_count": 16,
   "id": "a8673256",
   "metadata": {},
   "outputs": [
    {
     "name": "stdout",
     "output_type": "stream",
     "text": [
      "4\n",
      "24\n"
     ]
    }
   ],
   "source": [
    "n = int(input())\n",
    "start = 1\n",
    "while n:\n",
    "    start = start*n\n",
    "    n-=1\n",
    "print(start)"
   ]
  },
  {
   "cell_type": "markdown",
   "id": "752ea5fd",
   "metadata": {},
   "source": [
    " Reverse a list of integers number"
   ]
  },
  {
   "cell_type": "code",
   "execution_count": 21,
   "id": "2b691788",
   "metadata": {},
   "outputs": [],
   "source": [
    "def reverse(lst):\n",
    "    new_lst = lst[::-1]\n",
    "    return new_lst  "
   ]
  },
  {
   "cell_type": "code",
   "execution_count": 22,
   "id": "5c0f07a5",
   "metadata": {},
   "outputs": [
    {
     "data": {
      "text/plain": [
       "[0, 9, 8, 7, 6, 5, 4, 3, 2, 1]"
      ]
     },
     "execution_count": 22,
     "metadata": {},
     "output_type": "execute_result"
    }
   ],
   "source": [
    "lst6 = [1,2,3,4,5,6,7,8,9,0]\n",
    "reverse(lst6) "
   ]
  },
  {
   "cell_type": "code",
   "execution_count": null,
   "id": "744541d7",
   "metadata": {},
   "outputs": [],
   "source": []
  }
 ],
 "metadata": {
  "kernelspec": {
   "display_name": "Python 3 (ipykernel)",
   "language": "python",
   "name": "python3"
  },
  "language_info": {
   "codemirror_mode": {
    "name": "ipython",
    "version": 3
   },
   "file_extension": ".py",
   "mimetype": "text/x-python",
   "name": "python",
   "nbconvert_exporter": "python",
   "pygments_lexer": "ipython3",
   "version": "3.9.6"
  }
 },
 "nbformat": 4,
 "nbformat_minor": 5
}
